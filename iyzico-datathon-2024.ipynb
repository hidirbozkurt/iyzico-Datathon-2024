{
 "cells": [
  {
   "cell_type": "code",
   "execution_count": 1,
   "id": "41a445ed",
   "metadata": {
    "execution": {
     "iopub.execute_input": "2024-10-23T06:41:30.428879Z",
     "iopub.status.busy": "2024-10-23T06:41:30.428450Z",
     "iopub.status.idle": "2024-10-23T06:41:35.930824Z",
     "shell.execute_reply": "2024-10-23T06:41:35.929333Z"
    },
    "papermill": {
     "duration": 5.523412,
     "end_time": "2024-10-23T06:41:35.934182",
     "exception": false,
     "start_time": "2024-10-23T06:41:30.410770",
     "status": "completed"
    },
    "tags": []
   },
   "outputs": [],
   "source": [
    "import pandas as pd\n",
    "import numpy as np\n",
    "import seaborn as sns \n",
    "import matplotlib.pyplot as plt\n",
    "from sklearn.metrics import mean_absolute_error\n",
    "from sklearn import linear_model\n",
    "from catboost import CatBoostRegressor\n",
    "import lightgbm as lgb\n",
    "import xgboost as xgb\n",
    "from sklearn.preprocessing import MinMaxScaler\n",
    "from sklearn.ensemble import VotingRegressor,GradientBoostingRegressor\n",
    "\n",
    "from lightgbm import LGBMRegressor\n",
    "from sklearn.model_selection import TimeSeriesSplit\n",
    "\n",
    "\n",
    "#!pip install yfinance"
   ]
  },
  {
   "cell_type": "markdown",
   "id": "f787b48c",
   "metadata": {
    "papermill": {
     "duration": 0.014845,
     "end_time": "2024-10-23T06:41:35.965172",
     "exception": false,
     "start_time": "2024-10-23T06:41:35.950327",
     "status": "completed"
    },
    "tags": []
   },
   "source": [
    "# Problem Tanımı ve Çözüm"
   ]
  },
  {
   "cell_type": "markdown",
   "id": "62e364a0",
   "metadata": {
    "papermill": {
     "duration": 0.014843,
     "end_time": "2024-10-23T06:41:35.995407",
     "exception": false,
     "start_time": "2024-10-23T06:41:35.980564",
     "status": "completed"
    },
    "tags": []
   },
   "source": [
    "İyzico ile ödeme gerçekleştiren işyerlerinde aylık olarak gerçekleşebilecek işlem adetinin tahminlenmesi.\n",
    "\n",
    "Modellemeye lag özellikleri ve diğer kategorik özellikleri kullanarak tüm işyerleri için tek bir model oluşturarak başladım. Fakat bu yöntem çok iyi sonuçlar vermedi nedeni ise işyerleri arasındaki verilerin trendlerinin çok farklı olmasıydı. Bu aşamadan sonra farklı bir çözüm yolu bulmak istedim. Üyeye ait işlem adetini tahmin etmede son ayın değerleri oluşturduğum modele göre çok daha iyi sonuçlar veriyordu.Bu yüzden çözümümde  üyeliğini iptal etmiş veya  tahminelenebilirliği son ayın değerine göre  düşük olan üyeler için son ayın değerini tahmin olarak seçerken, modeller ile iyi tahminlenebilen üyelerin hepsi için ayrı model oluşturarak tahmin değeri oluşturdum. Kısaca çözümde anahtar kısım verisinde fazla gürültü bulunmayan ve trende sahip üyeleri seçebilmekti."
   ]
  },
  {
   "cell_type": "code",
   "execution_count": 2,
   "id": "a22422f0",
   "metadata": {
    "execution": {
     "iopub.execute_input": "2024-10-23T06:41:36.029727Z",
     "iopub.status.busy": "2024-10-23T06:41:36.028289Z",
     "iopub.status.idle": "2024-10-23T06:41:36.951577Z",
     "shell.execute_reply": "2024-10-23T06:41:36.950289Z"
    },
    "papermill": {
     "duration": 0.944198,
     "end_time": "2024-10-23T06:41:36.955148",
     "exception": false,
     "start_time": "2024-10-23T06:41:36.010950",
     "status": "completed"
    },
    "tags": []
   },
   "outputs": [],
   "source": [
    "traindf = pd.read_csv(\"/kaggle/input/iyzico-datathon/train.csv\")\n",
    "submission_df = pd.read_csv(\"/kaggle/input/iyzico-datathon/sample_submission.csv\")\n",
    "orj = traindf.copy()\n"
   ]
  },
  {
   "cell_type": "code",
   "execution_count": 3,
   "id": "303a13b2",
   "metadata": {
    "execution": {
     "iopub.execute_input": "2024-10-23T06:41:36.989568Z",
     "iopub.status.busy": "2024-10-23T06:41:36.989136Z",
     "iopub.status.idle": "2024-10-23T06:41:37.029132Z",
     "shell.execute_reply": "2024-10-23T06:41:37.027954Z"
    },
    "papermill": {
     "duration": 0.061428,
     "end_time": "2024-10-23T06:41:37.032290",
     "exception": false,
     "start_time": "2024-10-23T06:41:36.970862",
     "status": "completed"
    },
    "tags": []
   },
   "outputs": [],
   "source": [
    "\n",
    "def prepare_train_test_data(train_data, year_filter=2023, months_filter=[ 7, 8, 9], date_cutoff=\"2023-07-01\"):\n",
    "    \n",
    "    train = train_data.copy()\n",
    "    cat_var = train.drop([\"net_payment_count\", \"month_id\", \"merchant_id\"], axis=1).columns\n",
    "\n",
    "     \n",
    "    # Extract year and month from the index\n",
    "    train[\"date\"] = pd.to_datetime(train['month_id'], format='%Y%m')\n",
    "    train = train.set_index(\"date\")\n",
    "    train[\"year\"] = train.index.year\n",
    "    train[\"month\"] = train.index.month\n",
    "    train['month_id'] = pd.to_datetime(train['month_id'], format='%Y%m')\n",
    "    \n",
    "    \n",
    "\n",
    "     # Select and reorder columns\n",
    "    train.rename(columns={'merchant_id': 'id', 'net_payment_count': 'target'}, inplace=True)\n",
    "    train = train[[\"id\", \"month_id\", \"target\", \"year\", \"month\",\"merchant_source_name\",\"settlement_period\",\"working_type\",\n",
    "                   \"mcc_id\",\"merchant_segment\"]]\n",
    "    train = train.sort_values(by=[\"year\", \"month\"])\n",
    "\n",
    "    # Filter test data based on the specified conditions\n",
    "    test = train[(train.year == year_filter) & (train.month.isin(months_filter))]\n",
    "    train = train[train.index < date_cutoff]\n",
    "\n",
    "    \n",
    "\n",
    "    # Filter test data to include only ids present in train data\n",
    "    idx = train.id.unique()\n",
    "    test = test[test.id.isin(idx)]\n",
    "\n",
    "    return train, test\n",
    "\n",
    "\n",
    "\n",
    "\n",
    "\n",
    "\"\"\" yarışmada bizden, verisetindeki her bir kullanıcı için tahmini işlem adetini \n",
    "tahmin etmemiz istendi.Bu kullanıcların bir çoğu üyeliğini iptal etmiş veya aktif olarak \n",
    "işlem gerçekleştirmeyen üyelerdir ve aylık işlem adeti 0 a yakın değerlerdir.fakat bize verilen\n",
    "train verisetinde aylık aktif kullanıcılar yer alıyordu o yüzden sadece bu veri ile model \n",
    "oluşturduğumuzda daha yüksek MAE değerleri elde ediyorduk. Bu yüzden tüm idler için her yıl ve\n",
    "ayda verisi olacak şekilde verisetini tekrar oluşturdum. Bu sayede elde ettiğim değerler \n",
    "leaderboard skorları ile paralel olacaktı ve ayrıca bu veri ile lag featureları sorunsuz elde\n",
    "edebiliyordum. \n",
    "\n",
    "\"\"\"\n",
    "def create_full_train_test_data(train_data, test_data,orj, test_years=[2023], test_months=[ 7, 8, 9]):\n",
    "    # Create an empty list to store DataFrames for each unique ID\n",
    "    df_list = []\n",
    "\n",
    "    for unique_id in train_data['id'].unique():\n",
    "        # Create a DataFrame for each combination of year and month\n",
    "        df = pd.DataFrame({\n",
    "            'id': [unique_id] * ((2023 - 2020 + 1) * 12),\n",
    "            'year': [year for year in range(2020, 2023 + 1) for _ in range(1, 13)],\n",
    "            'month': [month for _ in range(2020, 2023 + 1) for month in range(1, 13)]\n",
    "        })\n",
    "\n",
    "        df_list.append(df)\n",
    "\n",
    "    # Concatenate DataFrames for each unique ID to create the training set\n",
    "    train_set = pd.concat(df_list, ignore_index=True)\n",
    "    \n",
    "    \n",
    "    orj = orj.sort_values(by=\"month_id\")\n",
    "    orj[\"date\"] = pd.to_datetime(orj['month_id'], format='%Y%m')\n",
    "    orj = orj.set_index(\"date\")\n",
    "    orj[\"year\"] = orj.index.year\n",
    "    orj[\"month\"] = orj.index.month\n",
    "    orj['month_id'] = pd.to_datetime(orj['month_id'], format='%Y%m')\n",
    "    \n",
    "    \n",
    "\n",
    "     # Select and reorder columns\n",
    "    orj.rename(columns={'merchant_id': 'id', 'net_payment_count': 'target'}, inplace=True)\n",
    "    orj = orj[[\"id\", \"month_id\", \"target\", \"year\", \"month\",\"merchant_source_name\",\"settlement_period\",\"working_type\",\n",
    "                   \"mcc_id\",\"merchant_segment\"]]\n",
    "    all_set = train_set.merge(orj[[\"id\", \"month_id\", \"target\", \"year\", \"month\",\"merchant_source_name\",\"settlement_period\",\"working_type\",\n",
    "                   \"mcc_id\",\"merchant_segment\"]],\n",
    "               on=[\"year\",\"month\",\"id\"],how=\"left\")\n",
    "\n",
    "    all_set = all_set[~((all_set.year==2023) & (all_set.month>9))]  \n",
    "    \n",
    "    train_set['date'] = pd.to_datetime(train_set[['year', 'month']].assign(day=1))\n",
    "    test_set = train_set[(train_set['year'].isin(test_years)) & (train_set['month'].isin(test_months))]\n",
    "\n",
    "    # Merge the test set with the provided test data on 'year', 'month', and 'id'\n",
    "    test_set = test_set.merge(test_data, on=[\"year\", \"month\", \"id\"], how=\"left\")\n",
    "    test_set[\"target\"] = test_set[\"target\"].fillna(0)\n",
    "    \n",
    "    train_set = train_set.merge(train_data, on=[\"year\", \"month\", \"id\"], how=\"left\")\n",
    "    train_set[\"target\"] = train_set[\"target\"].fillna(0)\n",
    "    \n",
    "    # Select the training set up to the start of the test set\n",
    "    train_set = train_set[train_set['date'] < test_set['date'].min()]\n",
    "\n",
    "    return train_set, test_set,all_set\n",
    "\n",
    "\n",
    "\n",
    "\n",
    "\n",
    "def summary_statistics(dataframes, column_name='month_id'):\n",
    "    summaries = []\n",
    "    for idx, dataframe in enumerate(dataframes, start=1):\n",
    "        min_value = dataframe[column_name].min()\n",
    "        max_value = dataframe[column_name].max()\n",
    "\n",
    "        null_counts = dataframe.isnull().sum()\n",
    "\n",
    "        summary = {\n",
    "            'DataFrame': f'Dataframe_{idx}',\n",
    "            'Min_Value': min_value,\n",
    "            'Max_Value': max_value,\n",
    "            'Null_Counts': null_counts.to_dict()\n",
    "        }\n",
    "\n",
    "        summaries.append(summary)\n",
    "\n",
    "    return pd.DataFrame(summaries)\n",
    "\n",
    "\n",
    "\n",
    "    \n",
    "    \n",
    "    \n",
    "def last_month_value(train_set, test_set):\n",
    "    lasts = train_set[train_set.date==train_set.date.max()]\n",
    "    b = test_set.merge(lasts[[\"id\",\"target\"]],on=\"id\",how=\"left\")\n",
    "    b[\"target_y\"]=  b.target_y.fillna(0)\n",
    "    b[\"dif\"]= (b.target_y - b.target_x)\n",
    "    mae = mean_absolute_error(b.target_y,b.target_x)\n",
    "    diff_df = b.copy()\n",
    "    return diff_df, mae\n",
    "\n",
    "\n",
    "def generate_correlation_tables(data, idx,orj_data):\n",
    "    correlation_data = {}\n",
    "\n",
    "    for unique_id in idx:\n",
    "        id_data = data[data['id'] == unique_id]\n",
    "        correlation_matrix = id_data[[\"year\", \"month\", \"lag_4\", \"target\"]].corr()\n",
    "        correlation_data[unique_id] = correlation_matrix.loc['target']\n",
    "\n",
    "    correlation_df = pd.DataFrame(correlation_data).T.reset_index().rename(columns={'index': 'id'})\n",
    "    correlation_df.loc[correlation_df[\"year\"] < 0, \"year\"] *= -1\n",
    "    correlation_df.loc[correlation_df[\"month\"] < 0, \"month\"] *= -1\n",
    "    correlation_df.loc[correlation_df[\"lag_4\"] < 0, \"lag_4\"] *= -1\n",
    "    correlation_df[\"total_corr\"] = correlation_df[[\"year\", \"month\", \"lag_4\"]].sum(axis=1)\n",
    "\n",
    "  \n",
    "    \n",
    "    scaler = MinMaxScaler()\n",
    "    #correlation_df[\"scaled_totals\"] =  scaler.fit_transform(correlation_df.totals.values.reshape(-1, 1))\n",
    "    #correlation_df[\"ftotals\"] =  correlation_df.total_corr + correlation_df.scaled_totals\n",
    "    return correlation_df\n",
    "\n",
    "\n",
    "\n",
    "def generate_p_values(data, idx, columns=[\"year\", \"month\", \"lag_4\"]):\n",
    "    p_value_data = {}\n",
    "\n",
    "    for unique_id in idx:\n",
    "        id_data = data[data['id'] == unique_id]\n",
    "        p_values = {}\n",
    "        for column in columns:\n",
    "            p_values[column] = pearsonr(id_data[column], id_data[\"target\"])[1]\n",
    "        p_value_data[unique_id] = p_values\n",
    "\n",
    "    p_value_df = pd.DataFrame(p_value_data).T.reset_index().rename(columns={'index': 'id'})\n",
    "\n",
    "    return p_value_df\n",
    "\n",
    "\n",
    "\n",
    "def calculate_consecutive_months(df):\n",
    "    # Create a new column 'new' based on the condition (0 if target==0 else 1)\n",
    "    df['new'] = df['target'].apply(lambda x: 0 if x < 20 else 1)\n",
    "\n",
    "    # Create a new column 'consecutive_months' to store the consecutive months count\n",
    "    df['consecutive_months'] = 0\n",
    "\n",
    "    # Iterate through each ID group\n",
    "    for _, group in df.groupby('id'):\n",
    "        consecutive_count = 0\n",
    "        for index, row in group[::-1].iterrows():\n",
    "            if row['new'] == 1:\n",
    "                consecutive_count += 1\n",
    "            else:\n",
    "                break\n",
    "        df.loc[group.index, 'consecutive_months'] = consecutive_count\n",
    "\n",
    "    # Drop the temporary 'new' column if needed\n",
    "    # df.drop('new', axis=1, inplace=True)\n",
    "\n",
    "    return df\n"
   ]
  },
  {
   "cell_type": "code",
   "execution_count": 4,
   "id": "23afd959",
   "metadata": {
    "execution": {
     "iopub.execute_input": "2024-10-23T06:41:37.067249Z",
     "iopub.status.busy": "2024-10-23T06:41:37.066180Z",
     "iopub.status.idle": "2024-10-23T06:41:51.575518Z",
     "shell.execute_reply": "2024-10-23T06:41:51.574034Z"
    },
    "papermill": {
     "duration": 14.531153,
     "end_time": "2024-10-23T06:41:51.578689",
     "exception": false,
     "start_time": "2024-10-23T06:41:37.047536",
     "status": "completed"
    },
    "tags": []
   },
   "outputs": [],
   "source": [
    "train ,test = prepare_train_test_data(traindf)\n",
    "train_set,test_set,all_set = create_full_train_test_data(train,test,orj)"
   ]
  },
  {
   "cell_type": "code",
   "execution_count": 5,
   "id": "8eab5572",
   "metadata": {
    "execution": {
     "iopub.execute_input": "2024-10-23T06:41:51.610215Z",
     "iopub.status.busy": "2024-10-23T06:41:51.609757Z",
     "iopub.status.idle": "2024-10-23T06:41:52.076890Z",
     "shell.execute_reply": "2024-10-23T06:41:52.075681Z"
    },
    "papermill": {
     "duration": 0.486297,
     "end_time": "2024-10-23T06:41:52.079799",
     "exception": false,
     "start_time": "2024-10-23T06:41:51.593502",
     "status": "completed"
    },
    "tags": []
   },
   "outputs": [
    {
     "data": {
      "text/html": [
       "<div>\n",
       "<style scoped>\n",
       "    .dataframe tbody tr th:only-of-type {\n",
       "        vertical-align: middle;\n",
       "    }\n",
       "\n",
       "    .dataframe tbody tr th {\n",
       "        vertical-align: top;\n",
       "    }\n",
       "\n",
       "    .dataframe thead th {\n",
       "        text-align: right;\n",
       "    }\n",
       "</style>\n",
       "<table border=\"1\" class=\"dataframe\">\n",
       "  <thead>\n",
       "    <tr style=\"text-align: right;\">\n",
       "      <th></th>\n",
       "      <th>DataFrame</th>\n",
       "      <th>Min_Value</th>\n",
       "      <th>Max_Value</th>\n",
       "      <th>Null_Counts</th>\n",
       "    </tr>\n",
       "  </thead>\n",
       "  <tbody>\n",
       "    <tr>\n",
       "      <th>0</th>\n",
       "      <td>Dataframe_1</td>\n",
       "      <td>2020-01-01</td>\n",
       "      <td>2023-06-01</td>\n",
       "      <td>{'id': 0, 'year': 0, 'month': 0, 'date': 0, 'm...</td>\n",
       "    </tr>\n",
       "    <tr>\n",
       "      <th>1</th>\n",
       "      <td>Dataframe_2</td>\n",
       "      <td>2023-07-01</td>\n",
       "      <td>2023-09-01</td>\n",
       "      <td>{'id': 0, 'year': 0, 'month': 0, 'date': 0, 'm...</td>\n",
       "    </tr>\n",
       "  </tbody>\n",
       "</table>\n",
       "</div>"
      ],
      "text/plain": [
       "     DataFrame  Min_Value  Max_Value  \\\n",
       "0  Dataframe_1 2020-01-01 2023-06-01   \n",
       "1  Dataframe_2 2023-07-01 2023-09-01   \n",
       "\n",
       "                                         Null_Counts  \n",
       "0  {'id': 0, 'year': 0, 'month': 0, 'date': 0, 'm...  \n",
       "1  {'id': 0, 'year': 0, 'month': 0, 'date': 0, 'm...  "
      ]
     },
     "execution_count": 5,
     "metadata": {},
     "output_type": "execute_result"
    }
   ],
   "source": [
    "summary_statistics([train_set,test_set],column_name=\"date\")"
   ]
  },
  {
   "cell_type": "code",
   "execution_count": 6,
   "id": "275e50ba",
   "metadata": {
    "execution": {
     "iopub.execute_input": "2024-10-23T06:41:52.112931Z",
     "iopub.status.busy": "2024-10-23T06:41:52.112529Z",
     "iopub.status.idle": "2024-10-23T06:41:52.197802Z",
     "shell.execute_reply": "2024-10-23T06:41:52.196166Z"
    },
    "papermill": {
     "duration": 0.105915,
     "end_time": "2024-10-23T06:41:52.201132",
     "exception": false,
     "start_time": "2024-10-23T06:41:52.095217",
     "status": "completed"
    },
    "tags": []
   },
   "outputs": [
    {
     "name": "stdout",
     "output_type": "stream",
     "text": [
      "son ayın değerine göre MAE: 46.03837622598145\n"
     ]
    }
   ],
   "source": [
    "diff_df , mae = last_month_value(train_set,test_set)\n",
    "\n",
    "print(\"son ayın değerine göre MAE:\",mae)"
   ]
  },
  {
   "cell_type": "markdown",
   "id": "48ab5c5a",
   "metadata": {
    "papermill": {
     "duration": 0.015886,
     "end_time": "2024-10-23T06:41:52.232890",
     "exception": false,
     "start_time": "2024-10-23T06:41:52.217004",
     "status": "completed"
    },
    "tags": []
   },
   "source": [
    "# MODEL"
   ]
  },
  {
   "cell_type": "code",
   "execution_count": 7,
   "id": "3d96ab80",
   "metadata": {
    "execution": {
     "iopub.execute_input": "2024-10-23T06:41:52.266385Z",
     "iopub.status.busy": "2024-10-23T06:41:52.265972Z",
     "iopub.status.idle": "2024-10-23T06:41:53.562257Z",
     "shell.execute_reply": "2024-10-23T06:41:53.560800Z"
    },
    "papermill": {
     "duration": 1.316823,
     "end_time": "2024-10-23T06:41:53.565580",
     "exception": false,
     "start_time": "2024-10-23T06:41:52.248757",
     "status": "completed"
    },
    "tags": []
   },
   "outputs": [],
   "source": [
    "dummies =  pd.get_dummies(\n",
    "    all_set[[\"merchant_source_name\",\"settlement_period\",\"working_type\",\n",
    "            \"merchant_segment\"]],drop_first=True).astype(int)\n",
    "\n",
    "all_set = pd.concat([all_set,dummies],axis=1)\n",
    "\n",
    "all_set = all_set.drop([\"merchant_source_name\",\"settlement_period\",\"working_type\",\n",
    "                   \"mcc_id\",\"merchant_segment\"],axis=1)"
   ]
  },
  {
   "cell_type": "markdown",
   "id": "c444a8e9",
   "metadata": {
    "papermill": {
     "duration": 0.015326,
     "end_time": "2024-10-23T06:41:53.597851",
     "exception": false,
     "start_time": "2024-10-23T06:41:53.582525",
     "status": "completed"
    },
    "tags": []
   },
   "source": [
    "### İyi tahminlenebilecek üyeleri seçmede ilk kullandığım yöntem önce üye idlerin seçmek için timeseries split ile 4 fold ve her foldda 3 ay olacak şekilde model oluşturup burada iyi tahminlenen merchant idleri seçip final test için bunları tahminleyip skorları karşılaştırmaktı. bu şekilde train test splitler oluşturmamın nedeni önceki aylarda iyi tahminlenen ayların ilerideki aylarda da iyi tahminlenip tahminlenemediğini test etmek. \n",
    "\n",
    "\n",
    "### diğer seçme yöntemim ise verisetindeki değişkenler ve target arasındaki korelasyon tablosu oluşturarak bununla birlikte merchant idleri seçmeye çalıştım. "
   ]
  },
  {
   "cell_type": "markdown",
   "id": "9dc37be3",
   "metadata": {
    "papermill": {
     "duration": 0.015476,
     "end_time": "2024-10-23T06:41:53.629013",
     "exception": false,
     "start_time": "2024-10-23T06:41:53.613537",
     "status": "completed"
    },
    "tags": []
   },
   "source": [
    "### kullanılan ve işe yaramayan yöntemler\n",
    "\n",
    "her modeli ayrı eğittiğim için az veriden kaynaklı ek veri kullanımı fayda sağlamadı. \n",
    "\n",
    "1. dolar kuru , ek lag ve istatiksel veriler, türkiyedeki kart kullanımına bağlı veriler.\n",
    "2. Parametre optimizasyonu \n",
    "3. üye verisine özel model seçimi\n",
    "4. verisetindeki olağan dışı trendi düzetme. "
   ]
  },
  {
   "cell_type": "code",
   "execution_count": 8,
   "id": "0a24c1b3",
   "metadata": {
    "execution": {
     "iopub.execute_input": "2024-10-23T06:41:53.662258Z",
     "iopub.status.busy": "2024-10-23T06:41:53.661861Z",
     "iopub.status.idle": "2024-10-23T06:41:57.204330Z",
     "shell.execute_reply": "2024-10-23T06:41:57.203060Z"
    },
    "papermill": {
     "duration": 3.562918,
     "end_time": "2024-10-23T06:41:57.207735",
     "exception": false,
     "start_time": "2024-10-23T06:41:53.644817",
     "status": "completed"
    },
    "tags": []
   },
   "outputs": [],
   "source": [
    "all_set[\"lag_4\"] =  all_set.groupby(\"id\").target.shift(3)\n",
    "all_set[\"lag_5\"] =  all_set.groupby(\"id\").target.shift(4)\n",
    "all_set[\"lag_6\"] =  all_set.groupby(\"id\").target.shift(5)\n",
    "\n",
    "all_set = all_set.fillna(0)\n",
    "all_set[\"date\"]=  pd.to_datetime(all_set[['year', 'month']].assign(day=1))\n",
    "all_set = all_set.sort_values(by=\"date\")\n",
    "\n",
    "\n",
    "# Test set for 2023-04 to 2023-06\n",
    "ftest2 = all_set[(all_set['date'] >= '2023-04-01') & (all_set['date'] < '2023-07-01')]\n",
    "\n",
    "# Training set for dates before 2023-04-01\n",
    "ftrain2 = all_set[all_set['date'] < '2023-04-01']\n",
    "\n",
    "# Test set for 2023-07 to 2023-09\n",
    "ftest3 = all_set[(all_set['date'] >= '2023-07-01') & (all_set['date'] < '2023-10-01')]\n",
    "\n",
    "# Training set for dates before 2023-07-01\n",
    "ftrain3 = all_set[all_set['date'] < '2023-07-01']\n",
    "\n",
    "# Test set for 2022-10 to 2022-12\n",
    "ftest1 = all_set[(all_set['date'] >= '2022-10-01') & (all_set['date'] < '2023-01-01')]\n",
    "\n",
    "# Training set for dates before 2022-10-01\n",
    "ftrain1 = all_set[all_set['date'] < '2022-10-01']\n",
    "\n",
    "# Test set for 2022-10 to 2022-12\n",
    "ftest4 = all_set[(all_set['date'] >= '2023-01-01') & (all_set['date'] < '2023-04-01')]\n",
    "\n",
    "# Training set for dates before 2022-10-01\n",
    "ftrain4 = all_set[all_set['date'] < '2023-01-01']"
   ]
  },
  {
   "cell_type": "markdown",
   "id": "2235d282",
   "metadata": {
    "papermill": {
     "duration": 0.015824,
     "end_time": "2024-10-23T06:41:57.240139",
     "exception": false,
     "start_time": "2024-10-23T06:41:57.224315",
     "status": "completed"
    },
    "tags": []
   },
   "source": [
    "### 1. train en iyi tahminlenen iş yerlerini seçmek için."
   ]
  },
  {
   "cell_type": "code",
   "execution_count": 9,
   "id": "6ab302ab",
   "metadata": {
    "execution": {
     "iopub.execute_input": "2024-10-23T06:41:57.273430Z",
     "iopub.status.busy": "2024-10-23T06:41:57.273016Z",
     "iopub.status.idle": "2024-10-23T06:43:54.882371Z",
     "shell.execute_reply": "2024-10-23T06:43:54.881013Z"
    },
    "papermill": {
     "duration": 117.62928,
     "end_time": "2024-10-23T06:43:54.885344",
     "exception": false,
     "start_time": "2024-10-23T06:41:57.256064",
     "status": "completed"
    },
    "tags": []
   },
   "outputs": [
    {
     "name": "stderr",
     "output_type": "stream",
     "text": [
      "/tmp/ipykernel_19/2234164433.py:179: SettingWithCopyWarning: \n",
      "A value is trying to be set on a copy of a slice from a DataFrame.\n",
      "Try using .loc[row_indexer,col_indexer] = value instead\n",
      "\n",
      "See the caveats in the documentation: https://pandas.pydata.org/pandas-docs/stable/user_guide/indexing.html#returning-a-view-versus-a-copy\n",
      "  df['new'] = df['target'].apply(lambda x: 0 if x < 20 else 1)\n",
      "/tmp/ipykernel_19/2234164433.py:182: SettingWithCopyWarning: \n",
      "A value is trying to be set on a copy of a slice from a DataFrame.\n",
      "Try using .loc[row_indexer,col_indexer] = value instead\n",
      "\n",
      "See the caveats in the documentation: https://pandas.pydata.org/pandas-docs/stable/user_guide/indexing.html#returning-a-view-versus-a-copy\n",
      "  df['consecutive_months'] = 0\n"
     ]
    },
    {
     "data": {
      "text/plain": [
       "46"
      ]
     },
     "execution_count": 9,
     "metadata": {},
     "output_type": "execute_result"
    }
   ],
   "source": [
    "# 1. test split için korelasyon tablosu oluşturma\n",
    "\n",
    "tidx = ftrain1[(ftrain1.date==\"2022-09-01\") & (ftrain1.target>100)].id\n",
    "corr_df = generate_correlation_tables(ftrain1,tidx,orj)\n",
    "\n",
    "n_months = calculate_consecutive_months(ftrain1)\n",
    "corr_df = corr_df.merge(n_months.groupby(\"id\").consecutive_months.max(),on=\"id\", how=\"left\")\n",
    "lt = all_set.groupby(\"id\").target.last()\n",
    "corr_df = corr_df.merge(lt,on=\"id\",how=\"left\")\n",
    "\n",
    "scaler = MinMaxScaler()\n",
    "corr_df[\"scaled_months\"] =  scaler.fit_transform(corr_df.consecutive_months.values.reshape(-1, 1))\n",
    "corr_df[\"final\"] =  corr_df.total_corr + corr_df.scaled_months\n",
    "corr_df = corr_df.sort_values(by=\"final\",ascending=False)\n",
    "corridx = corr_df[(corr_df.final>2.5) & (corr_df.consecutive_months>11)].id\n",
    "len(corridx)"
   ]
  },
  {
   "cell_type": "code",
   "execution_count": 10,
   "id": "f1d76608",
   "metadata": {
    "execution": {
     "iopub.execute_input": "2024-10-23T06:43:54.919020Z",
     "iopub.status.busy": "2024-10-23T06:43:54.918059Z",
     "iopub.status.idle": "2024-10-23T06:43:55.018904Z",
     "shell.execute_reply": "2024-10-23T06:43:55.017384Z"
    },
    "papermill": {
     "duration": 0.12116,
     "end_time": "2024-10-23T06:43:55.022045",
     "exception": false,
     "start_time": "2024-10-23T06:43:54.900885",
     "status": "completed"
    },
    "tags": []
   },
   "outputs": [
    {
     "name": "stdout",
     "output_type": "stream",
     "text": [
      "son ayın değerlerine göre ftrain1 ,ftest1 MAE: 57.293660974371306\n"
     ]
    }
   ],
   "source": [
    "diff_df , mae = last_month_value(ftrain1,ftest1)\n",
    "\n",
    "print(\"son ayın değerlerine göre ftrain1 ,ftest1 MAE:\",mae)"
   ]
  },
  {
   "cell_type": "code",
   "execution_count": 11,
   "id": "33f22825",
   "metadata": {
    "execution": {
     "iopub.execute_input": "2024-10-23T06:43:55.056080Z",
     "iopub.status.busy": "2024-10-23T06:43:55.055609Z",
     "iopub.status.idle": "2024-10-23T06:50:46.784172Z",
     "shell.execute_reply": "2024-10-23T06:50:46.782780Z"
    },
    "papermill": {
     "duration": 411.764509,
     "end_time": "2024-10-23T06:50:46.802716",
     "exception": false,
     "start_time": "2024-10-23T06:43:55.038207",
     "status": "completed"
    },
    "tags": []
   },
   "outputs": [
    {
     "name": "stdout",
     "output_type": "stream",
     "text": [
      "For ID list 'korelasyon tablosundan seçilen idler ile birlikte skor:':\n",
      "Son değere göre MAE: 57.293660974371306\n",
      "Tahmin değerleri ile birlikte MAE: 54.991952768134425\n",
      "\n",
      "\n",
      "For ID list '4 foldun hepsinde, idnin son değerine göre daha iyi sonuç veren idler ile:':\n",
      "Son değere göre MAE: 57.293660974371306\n",
      "Tahmin değerleri ile birlikte MAE: 56.95781494485143\n",
      "\n",
      "\n",
      "For ID list '4 foldun ortalaması son değere göre daha iyi olan idler ile skor:':\n",
      "Son değere göre MAE: 57.293660974371306\n",
      "Tahmin değerleri ile birlikte MAE: 59.72920683332767\n",
      "\n",
      "\n"
     ]
    }
   ],
   "source": [
    "from sklearn.ensemble import VotingRegressor\n",
    "from catboost import CatBoostRegressor\n",
    "from lightgbm import LGBMRegressor\n",
    "\n",
    "\n",
    "ds = ftrain1\n",
    "\n",
    "\n",
    "# ilk aşamada belirli sayıda, koşula göre id seçme\n",
    "downidx = ds[(ds.date == \"2022-09-01\") & (ds.target > 100)].id\n",
    "\n",
    "unique_ids = downidx\n",
    "\n",
    "all_scores = {}\n",
    "all_last_value_scores = {}\n",
    "\n",
    "for current_id in unique_ids:\n",
    "    scores = []\n",
    "    last_value_scores = []\n",
    "\n",
    "    current_data = ds[ds['id'] == current_id]\n",
    "\n",
    "    # Use TimeSeriesSplit for the current ID\n",
    "    tscv = TimeSeriesSplit(n_splits=4, test_size=3)\n",
    "\n",
    "    for fold_idx, (train_idx, val_idx) in enumerate(tscv.split(current_data)):\n",
    "        train_data = current_data.iloc[train_idx]\n",
    "        test_data = current_data.iloc[val_idx]\n",
    "\n",
    "        X_train, y_train = train_data.drop(\"target\", axis=1), train_data[\"target\"]\n",
    "        X_test, y_test = test_data.drop(\"target\", axis=1), test_data[\"target\"]\n",
    "\n",
    "    \n",
    "\n",
    "        features = [\"year\", \"month\", \"lag_4\"]\n",
    "\n",
    "        X_train = X_train[features]\n",
    "        X_test = X_test[features]\n",
    "\n",
    "       \n",
    "        ml = VotingRegressor(estimators=[\n",
    "    \n",
    "            ('xgb', xgb.XGBRFRegressor())\n",
    "        ])\n",
    "\n",
    "        ml.fit(X_train, y_train)\n",
    "        predicted = ml.predict(X_test)\n",
    "\n",
    "        #fi = ml.feature_importances_\n",
    "\n",
    "        just_score = mean_absolute_error(predicted, y_test)\n",
    "        last_value_score = mean_absolute_error(y_test, X_test.lag_4)\n",
    "\n",
    "        scores.append(just_score)\n",
    "        last_value_scores.append(last_value_score)\n",
    "\n",
    "    # Store scores in dictionaries with IDs\n",
    "    all_scores[current_id] = scores\n",
    "    all_last_value_scores[current_id] = last_value_scores\n",
    "\n",
    "    \n",
    "    \n",
    "\n",
    "all_scores_df = pd.DataFrame(all_scores).T.reset_index()\n",
    "last_scores_df = pd.DataFrame(all_last_value_scores).T.reset_index()\n",
    "all_scores_df.columns = [\"id\", \"t1\",\"t2\",\"t3\",\"t4\"]\n",
    "last_scores_df.columns = [\"id\", \"l1\",\"l2\",\"l3\",\"l4\"]\n",
    "sd = last_scores_df.merge(all_scores_df,on=\"id\")\n",
    "\n",
    "\n",
    "for i in range(1, 5):\n",
    "    sd[f'score_{i}'] = ((sd[f't{i}'] < sd[f'l{i}']).astype(int))\n",
    "\n",
    "# Sum the scores across columns for each row\n",
    "sd['score'] = sd[['score_1', 'score_2', 'score_3', 'score_4']].sum(axis=1)\n",
    "\n",
    "sd['l_average'] = sd[['l1', 'l2', 'l3', 'l4']].mean(axis=1)\n",
    "sd['t_average'] = sd[['t1', 't2', 't3', 't4']].mean(axis=1)\n",
    "\n",
    "sd['difference_averages'] = sd['l_average']  - sd['t_average'] \n",
    "\n",
    "# sd tablaso her idye ait tahmn değerlerini karşılaştırmamızı yarıyor.\n",
    "\n",
    "\n",
    "scoreidx = sd[(sd.score==4)].id.unique()\n",
    "bigger2 = sd[(sd.score>2)].id.unique()\n",
    "diffidx = sd[(sd.difference_averages>0)].id.unique()\n",
    "\n",
    "\n",
    "\n",
    "indexn = []\n",
    "predictions = []\n",
    "feature_importances_list = []\n",
    "\n",
    "\n",
    "\n",
    "\n",
    "id_lists = [corridx ,scoreidx,diffidx]\n",
    "names = [\"korelasyon tablosundan seçilen idler ile birlikte skor:\", \"4 foldun hepsinde, idnin son değerine göre daha iyi sonuç veren idler ile:\",\n",
    "         \"4 foldun ortalaması son değere göre daha iyi olan idler ile skor:\"\n",
    "        ]\n",
    "\n",
    "for idx_list, name in zip(id_lists, names):\n",
    "    indexn = []\n",
    "    predictions = []\n",
    "    feature_importances_list = []\n",
    "\n",
    "    for i in idx_list:\n",
    "        tf = ftrain1[ftrain1.id == i]\n",
    "        ts = ftest1[ftest1.id == i]\n",
    "        modelxgb =  VotingRegressor(estimators=[\n",
    "        \n",
    "           \n",
    "            ('xg3b', CatBoostRegressor(silent=True)),\n",
    "        ])\n",
    "        modelxgb.fit(tf[[\"year\", \"month\", \"lag_4\",]], tf.target)\n",
    "        preds = modelxgb.predict(ts[[\"year\", \"month\", \"lag_4\"]])\n",
    "        indexn.append(i)\n",
    "        predictions.append(preds)\n",
    "        #feature_importances_list.append(modelxgb.feature_importances_)\n",
    "\n",
    "    pred_data = pd.DataFrame(predictions)\n",
    "    pred_data[\"id\"] = indexn\n",
    "    pred_data = pd.melt(pred_data, id_vars='id', var_name='column', value_name='value')\n",
    "\n",
    "    column_mapping = {0: 10, 1: 11, 2: 12}\n",
    "\n",
    "    pred_data['month'] = pred_data['column'].replace(column_mapping)\n",
    "    pred_data = pred_data[[\"id\", \"month\", \"value\"]]\n",
    "    diff_df2 = diff_df.merge(pred_data, on=[\"month\", \"id\"], how=\"left\")\n",
    "    diff_df2[\"value\"] = diff_df2['value'].fillna(diff_df2['target_y'])\n",
    "\n",
    "    #feature_imp = pd.DataFrame(feature_importances_list, columns=modelxgb.feature_names_in_).mean()\n",
    "\n",
    "    print(f\"For ID list '{name}':\")  # Display the name of the ID list\n",
    "    #print(\"Feature Importances:\")\n",
    "   #print(feature_imp)\n",
    "    print(\"Son değere göre MAE:\", mean_absolute_error(diff_df2.target_x, diff_df2.target_y))\n",
    "    print(\"Tahmin değerleri ile birlikte MAE:\", mean_absolute_error(diff_df2.target_x, diff_df2.value))\n",
    "    print(\"\\n\")"
   ]
  },
  {
   "cell_type": "markdown",
   "id": "150d2b43",
   "metadata": {
    "papermill": {
     "duration": 0.015831,
     "end_time": "2024-10-23T06:50:46.834434",
     "exception": false,
     "start_time": "2024-10-23T06:50:46.818603",
     "status": "completed"
    },
    "tags": []
   },
   "source": [
    "## 2. train test "
   ]
  },
  {
   "cell_type": "code",
   "execution_count": 12,
   "id": "7b92fa85",
   "metadata": {
    "execution": {
     "iopub.execute_input": "2024-10-23T06:50:46.868450Z",
     "iopub.status.busy": "2024-10-23T06:50:46.867903Z",
     "iopub.status.idle": "2024-10-23T06:50:46.972936Z",
     "shell.execute_reply": "2024-10-23T06:50:46.971165Z"
    },
    "papermill": {
     "duration": 0.126114,
     "end_time": "2024-10-23T06:50:46.976149",
     "exception": false,
     "start_time": "2024-10-23T06:50:46.850035",
     "status": "completed"
    },
    "tags": []
   },
   "outputs": [
    {
     "name": "stdout",
     "output_type": "stream",
     "text": [
      "son ayın değerlerine göre ftrain2 ,ftest2 MAE: 42.398086533579196\n"
     ]
    }
   ],
   "source": [
    "diff_df , mae = last_month_value(ftrain2,ftest2)\n",
    "\n",
    "print(\"son ayın değerlerine göre ftrain2 ,ftest2 MAE:\",mae)"
   ]
  },
  {
   "cell_type": "code",
   "execution_count": 13,
   "id": "3d553ca3",
   "metadata": {
    "execution": {
     "iopub.execute_input": "2024-10-23T06:50:47.012745Z",
     "iopub.status.busy": "2024-10-23T06:50:47.012249Z",
     "iopub.status.idle": "2024-10-23T06:53:21.416179Z",
     "shell.execute_reply": "2024-10-23T06:53:21.415025Z"
    },
    "papermill": {
     "duration": 154.425677,
     "end_time": "2024-10-23T06:53:21.419521",
     "exception": false,
     "start_time": "2024-10-23T06:50:46.993844",
     "status": "completed"
    },
    "tags": []
   },
   "outputs": [
    {
     "name": "stderr",
     "output_type": "stream",
     "text": [
      "/tmp/ipykernel_19/2234164433.py:179: SettingWithCopyWarning: \n",
      "A value is trying to be set on a copy of a slice from a DataFrame.\n",
      "Try using .loc[row_indexer,col_indexer] = value instead\n",
      "\n",
      "See the caveats in the documentation: https://pandas.pydata.org/pandas-docs/stable/user_guide/indexing.html#returning-a-view-versus-a-copy\n",
      "  df['new'] = df['target'].apply(lambda x: 0 if x < 20 else 1)\n",
      "/tmp/ipykernel_19/2234164433.py:182: SettingWithCopyWarning: \n",
      "A value is trying to be set on a copy of a slice from a DataFrame.\n",
      "Try using .loc[row_indexer,col_indexer] = value instead\n",
      "\n",
      "See the caveats in the documentation: https://pandas.pydata.org/pandas-docs/stable/user_guide/indexing.html#returning-a-view-versus-a-copy\n",
      "  df['consecutive_months'] = 0\n"
     ]
    }
   ],
   "source": [
    "tidx = ftrain2[(ftrain2.date==\"2023-03-01\") & (ftrain2.target>100)].id\n",
    "corr_df = generate_correlation_tables(ftrain2,tidx,orj)\n",
    "\n",
    "n_months = calculate_consecutive_months(ftrain2)\n",
    "corr_df = corr_df.merge(n_months.groupby(\"id\").consecutive_months.max(),on=\"id\", how=\"left\")\n",
    "lt = all_set.groupby(\"id\").target.last()\n",
    "corr_df = corr_df.merge(lt,on=\"id\",how=\"left\")\n",
    "\n",
    "scaler = MinMaxScaler()\n",
    "corr_df[\"scaled_months\"] =  scaler.fit_transform(corr_df.consecutive_months.values.reshape(-1, 1))\n",
    "corr_df[\"final\"] =  corr_df.total_corr + corr_df.scaled_months\n",
    "corr_df = corr_df.sort_values(by=\"final\",ascending=False)\n",
    "corridx = corr_df[(corr_df.consecutive_months>11) & (corr_df.final>2.6)].id"
   ]
  },
  {
   "cell_type": "code",
   "execution_count": 14,
   "id": "829124dc",
   "metadata": {
    "execution": {
     "iopub.execute_input": "2024-10-23T06:53:21.458412Z",
     "iopub.status.busy": "2024-10-23T06:53:21.457958Z",
     "iopub.status.idle": "2024-10-23T06:59:50.104601Z",
     "shell.execute_reply": "2024-10-23T06:59:50.103222Z"
    },
    "papermill": {
     "duration": 388.686378,
     "end_time": "2024-10-23T06:59:50.125054",
     "exception": false,
     "start_time": "2024-10-23T06:53:21.438676",
     "status": "completed"
    },
    "tags": []
   },
   "outputs": [
    {
     "name": "stdout",
     "output_type": "stream",
     "text": [
      "For ID list 'korelasyon tablosundan seçilen idler ile birlikte skor:':\n",
      "Feature Importances:\n",
      "year     0.369225\n",
      "month    0.043035\n",
      "lag_4    0.587740\n",
      "dtype: float32\n",
      "Son ayın değerine göre MAE: 42.398086533579196\n",
      "Tahmin değerleri ile MAE: 39.42429422577181\n",
      "\n",
      "\n",
      "For ID list '4 foldun hepsinde, idnin son değerine göre daha iyi sonuç veren idler ile:':\n",
      "Feature Importances:\n",
      "year     0.390985\n",
      "month    0.231335\n",
      "lag_4    0.377680\n",
      "dtype: float32\n",
      "Son ayın değerine göre MAE: 42.398086533579196\n",
      "Tahmin değerleri ile MAE: 42.29859565337441\n",
      "\n",
      "\n",
      "For ID list '4 foldun ortalaması son değere göre daha iyi olan idler ile skor:':\n",
      "Feature Importances:\n",
      "year     0.339081\n",
      "month    0.184878\n",
      "lag_4    0.476041\n",
      "dtype: float32\n",
      "Son ayın değerine göre MAE: 42.398086533579196\n",
      "Tahmin değerleri ile MAE: 38.8397915044355\n",
      "\n",
      "\n"
     ]
    }
   ],
   "source": [
    "\n",
    "ds = ftrain2\n",
    "downidx = ds[(ds.date==\"2023-03-01\") & (ds.target>100)].id\n",
    "\n",
    "unique_ids = downidx\n",
    "\n",
    "all_scores = {}\n",
    "all_last_value_scores = {}\n",
    "\n",
    "for current_id in unique_ids:\n",
    "    \n",
    "    scores = []\n",
    "    last_value_scores = []\n",
    "    \n",
    "    \n",
    "    current_data = ds[ds['id'] == current_id]\n",
    "\n",
    "    # Use TimeSeriesSplit for the current ID\n",
    "    tscv = TimeSeriesSplit(n_splits=4, test_size=3)\n",
    "\n",
    "    for fold_idx, (train_idx, val_idx) in enumerate(tscv.split(current_data)):\n",
    "        train_data = current_data.iloc[train_idx]\n",
    "        test_data = current_data.iloc[val_idx]\n",
    "\n",
    "        X_train, y_train = train_data.drop(\"target\", axis=1), train_data[\"target\"]\n",
    "        X_test, y_test = test_data.drop(\"target\", axis=1), test_data[\"target\"]\n",
    "\n",
    "        features = ['year', 'month', 'lag_4']\n",
    "       \n",
    "        X_train = X_train[features]\n",
    "        X_test = X_test[features]\n",
    "\n",
    "        ml = xgb.XGBRegressor()\n",
    "\n",
    "        ml.fit(X_train, y_train)\n",
    "        predicted = ml.predict(X_test)\n",
    "\n",
    "        fi = ml.feature_importances_\n",
    "\n",
    "        just_score = mean_absolute_error(predicted, y_test)\n",
    "        last_value_score = mean_absolute_error(y_test, X_test.lag_4)\n",
    "        \n",
    "        scores.append(just_score)\n",
    "        last_value_scores.append(last_value_score)\n",
    "        \n",
    "        #print(f'Mean absolute Error for ID {current_id}, Fold {fold_idx + 1}: {just_score}')\n",
    "\n",
    "    # Store scores in dictionaries with IDs\n",
    "    all_scores[current_id] = scores\n",
    "    all_last_value_scores[current_id] = last_value_scores\n",
    "\n",
    "    #print(f'Mean {current_id}: {np.mean(scores)}')\n",
    "    #print(f'Mean Last Score {current_id}: {np.mean(last_value_scores)}')\n",
    "\n",
    "    \n",
    "    \n",
    "all_scores_df = pd.DataFrame(all_scores).T.reset_index()\n",
    "last_scores_df = pd.DataFrame(all_last_value_scores).T.reset_index()\n",
    "all_scores_df.columns = [\"id\", \"t1\",\"t2\",\"t3\",\"t4\"]\n",
    "last_scores_df.columns = [\"id\", \"l1\",\"l2\",\"l3\",\"l4\"]\n",
    "sd = last_scores_df.merge(all_scores_df,on=\"id\")\n",
    "\n",
    "\n",
    "for i in range(1, 5):\n",
    "    sd[f'score_{i}'] = ((sd[f't{i}'] < sd[f'l{i}']).astype(int))\n",
    "\n",
    "# Sum the scores across columns for each row\n",
    "sd['score'] = sd[['score_1', 'score_2', 'score_3', 'score_4']].sum(axis=1)\n",
    "\n",
    "sd['l_average'] = sd[['l1', 'l2', 'l3', 'l4']].mean(axis=1)\n",
    "sd['t_average'] = sd[['t1', 't2', 't3', 't4']].mean(axis=1)\n",
    "\n",
    "sd['difference_averages'] = sd['l_average']  - sd['t_average'] \n",
    "\n",
    "scoreidx = sd[(sd.score==4)].id.unique()\n",
    "diffidx = sd[(sd.difference_averages>0)].id.unique()\n",
    "\n",
    "\n",
    "\n",
    "indexn = []\n",
    "predictions = []\n",
    "feature_importances_list = []\n",
    "\n",
    "\n",
    "id_lists = [corridx ,scoreidx,diffidx]\n",
    "names = [\"korelasyon tablosundan seçilen idler ile birlikte skor:\", \"4 foldun hepsinde, idnin son değerine göre daha iyi sonuç veren idler ile:\",\n",
    "         \"4 foldun ortalaması son değere göre daha iyi olan idler ile skor:\"\n",
    "        ]\n",
    "\n",
    "for idx_list, name in zip(id_lists, names):\n",
    "    indexn = []\n",
    "    predictions = []\n",
    "    feature_importances_list = []\n",
    "\n",
    "    for i in idx_list:\n",
    "        tf = ftrain2[ftrain2.id == i]\n",
    "        ts = ftest2[ftest2.id == i]\n",
    "        modelxgb = xgb.XGBRegressor()\n",
    "        modelxgb.fit(tf[[\"year\", \"month\", \"lag_4\",]], tf.target)\n",
    "        preds = modelxgb.predict(ts[[\"year\", \"month\", \"lag_4\",]])\n",
    "        indexn.append(i)\n",
    "        predictions.append(preds)\n",
    "        feature_importances_list.append(modelxgb.feature_importances_)\n",
    "\n",
    "    pred_data = pd.DataFrame(predictions)\n",
    "    pred_data[\"id\"] = indexn\n",
    "    pred_data = pd.melt(pred_data, id_vars='id', var_name='column', value_name='value')\n",
    "\n",
    "    column_mapping = {0: 4, 1: 5, 2: 6}\n",
    "\n",
    "    pred_data['month'] = pred_data['column'].replace(column_mapping)\n",
    "    pred_data = pred_data[[\"id\", \"month\", \"value\"]]\n",
    "    diff_df2 = diff_df.merge(pred_data, on=[\"month\", \"id\"], how=\"left\")\n",
    "    diff_df2[\"value\"] = diff_df2['value'].fillna(diff_df2['target_y'])\n",
    "\n",
    "    feature_imp = pd.DataFrame(feature_importances_list, columns=modelxgb.feature_names_in_).mean()\n",
    "\n",
    "    print(f\"For ID list '{name}':\")  # Display the name of the ID list\n",
    "    print(\"Feature Importances:\")\n",
    "    print(feature_imp)\n",
    "    print(\"Son ayın değerine göre MAE:\", mean_absolute_error(diff_df2.target_x, diff_df2.target_y))\n",
    "    print(\"Tahmin değerleri ile MAE:\", mean_absolute_error(diff_df2.target_x, diff_df2.value))\n",
    "    print(\"\\n\")"
   ]
  },
  {
   "cell_type": "markdown",
   "id": "74fb495d",
   "metadata": {
    "papermill": {
     "duration": 0.017234,
     "end_time": "2024-10-23T06:59:50.159301",
     "exception": false,
     "start_time": "2024-10-23T06:59:50.142067",
     "status": "completed"
    },
    "tags": []
   },
   "source": [
    "## 3. train test "
   ]
  },
  {
   "cell_type": "code",
   "execution_count": 15,
   "id": "f1b427cd",
   "metadata": {
    "execution": {
     "iopub.execute_input": "2024-10-23T06:59:50.196134Z",
     "iopub.status.busy": "2024-10-23T06:59:50.195686Z",
     "iopub.status.idle": "2024-10-23T06:59:50.273070Z",
     "shell.execute_reply": "2024-10-23T06:59:50.271699Z"
    },
    "papermill": {
     "duration": 0.099296,
     "end_time": "2024-10-23T06:59:50.276000",
     "exception": false,
     "start_time": "2024-10-23T06:59:50.176704",
     "status": "completed"
    },
    "tags": []
   },
   "outputs": [
    {
     "name": "stdout",
     "output_type": "stream",
     "text": [
      "son ayın değerlerine göre ftrain3 ,ftest3 MAE: 46.03837622598145\n"
     ]
    }
   ],
   "source": [
    "diff_df , mae = last_month_value(ftrain3,ftest3)\n",
    "\n",
    "print(\"son ayın değerlerine göre ftrain3 ,ftest3 MAE:\",mae)"
   ]
  },
  {
   "cell_type": "code",
   "execution_count": 16,
   "id": "6bc8aedc",
   "metadata": {
    "execution": {
     "iopub.execute_input": "2024-10-23T06:59:50.313094Z",
     "iopub.status.busy": "2024-10-23T06:59:50.312598Z",
     "iopub.status.idle": "2024-10-23T07:02:17.978098Z",
     "shell.execute_reply": "2024-10-23T07:02:17.976725Z"
    },
    "papermill": {
     "duration": 147.688173,
     "end_time": "2024-10-23T07:02:17.981522",
     "exception": false,
     "start_time": "2024-10-23T06:59:50.293349",
     "status": "completed"
    },
    "tags": []
   },
   "outputs": [
    {
     "name": "stderr",
     "output_type": "stream",
     "text": [
      "/tmp/ipykernel_19/2234164433.py:179: SettingWithCopyWarning: \n",
      "A value is trying to be set on a copy of a slice from a DataFrame.\n",
      "Try using .loc[row_indexer,col_indexer] = value instead\n",
      "\n",
      "See the caveats in the documentation: https://pandas.pydata.org/pandas-docs/stable/user_guide/indexing.html#returning-a-view-versus-a-copy\n",
      "  df['new'] = df['target'].apply(lambda x: 0 if x < 20 else 1)\n",
      "/tmp/ipykernel_19/2234164433.py:182: SettingWithCopyWarning: \n",
      "A value is trying to be set on a copy of a slice from a DataFrame.\n",
      "Try using .loc[row_indexer,col_indexer] = value instead\n",
      "\n",
      "See the caveats in the documentation: https://pandas.pydata.org/pandas-docs/stable/user_guide/indexing.html#returning-a-view-versus-a-copy\n",
      "  df['consecutive_months'] = 0\n"
     ]
    }
   ],
   "source": [
    "tidx = ftrain3[(ftrain3.date==\"2023-06-01\") & (ftrain3.target>100)].id\n",
    "corr_df = generate_correlation_tables(ftrain2,tidx,orj)\n",
    "\n",
    "n_months = calculate_consecutive_months(ftrain2)\n",
    "corr_df = corr_df.merge(n_months.groupby(\"id\").consecutive_months.max(),on=\"id\", how=\"left\")\n",
    "lt = all_set.groupby(\"id\").target.last()\n",
    "corr_df = corr_df.merge(lt,on=\"id\",how=\"left\")\n",
    "\n",
    "scaler = MinMaxScaler()\n",
    "corr_df[\"scaled_months\"] =  scaler.fit_transform(corr_df.consecutive_months.values.reshape(-1, 1))\n",
    "corr_df[\"final\"] =  corr_df.total_corr + corr_df.scaled_months\n",
    "corr_df = corr_df.sort_values(by=\"final\",ascending=False)\n",
    "corridx = corr_df[(corr_df.consecutive_months>11) & (corr_df.final>2.6)].id"
   ]
  },
  {
   "cell_type": "code",
   "execution_count": 17,
   "id": "dc69accd",
   "metadata": {
    "execution": {
     "iopub.execute_input": "2024-10-23T07:02:18.018576Z",
     "iopub.status.busy": "2024-10-23T07:02:18.017984Z",
     "iopub.status.idle": "2024-10-23T07:09:08.394898Z",
     "shell.execute_reply": "2024-10-23T07:09:08.393378Z"
    },
    "papermill": {
     "duration": 410.416612,
     "end_time": "2024-10-23T07:09:08.415646",
     "exception": false,
     "start_time": "2024-10-23T07:02:17.999034",
     "status": "completed"
    },
    "tags": []
   },
   "outputs": [
    {
     "name": "stdout",
     "output_type": "stream",
     "text": [
      "For ID list 'korelasyon tablosundan seçilen idler ile birlikte skor:':\n",
      "Feature Importances:\n",
      "Son ayın değerine göre MAE: 46.03837622598145\n",
      "Tahminlenen idler ile birlikte MAE: 44.88692369259462\n",
      "\n",
      "\n",
      "For ID list '4 foldun hepsinde, idnin son değerine göre daha iyi sonuç veren idler ile:':\n",
      "Feature Importances:\n",
      "Son ayın değerine göre MAE: 46.03837622598145\n",
      "Tahminlenen idler ile birlikte MAE: 45.72130374923229\n",
      "\n",
      "\n",
      "For ID list '4 foldun ortalaması son değere göre daha iyi olan idler ile skor:':\n",
      "Feature Importances:\n",
      "Son ayın değerine göre MAE: 46.03837622598145\n",
      "Tahminlenen idler ile birlikte MAE: 44.59966091429322\n",
      "\n",
      "\n"
     ]
    }
   ],
   "source": [
    "\n",
    "ds = ftrain3\n",
    "downidx = ds[(ds.date==\"2023-06-01\") & (ds.target>100)].id\n",
    "\n",
    "unique_ids = downidx\n",
    "\n",
    "all_scores = {}\n",
    "all_last_value_scores = {}\n",
    "\n",
    "for current_id in unique_ids:\n",
    "    \n",
    "    scores = []\n",
    "    last_value_scores = []\n",
    "    \n",
    "    \n",
    "    current_data = ds[ds['id'] == current_id]\n",
    "\n",
    "    # Use TimeSeriesSplit for the current ID\n",
    "    tscv = TimeSeriesSplit(n_splits=4, test_size=3)\n",
    "\n",
    "    for fold_idx, (train_idx, val_idx) in enumerate(tscv.split(current_data)):\n",
    "        train_data = current_data.iloc[train_idx]\n",
    "        test_data = current_data.iloc[val_idx]\n",
    "\n",
    "        X_train, y_train = train_data.drop(\"target\", axis=1), train_data[\"target\"]\n",
    "        X_test, y_test = test_data.drop(\"target\", axis=1), test_data[\"target\"]\n",
    "\n",
    "        features = ['year', 'month', 'lag_4']\n",
    "       \n",
    "        X_train = X_train[features]\n",
    "        X_test = X_test[features]\n",
    "\n",
    "        ml = VotingRegressor(estimators=[\n",
    "        \n",
    "           \n",
    "          \n",
    "            ('xg2b', xgb.XGBRegressor()),\n",
    "            \n",
    "        ])\n",
    "\n",
    "        ml.fit(X_train, y_train)\n",
    "        predicted = ml.predict(X_test)\n",
    "\n",
    "        #fi = ml.feature_importances_\n",
    "\n",
    "        just_score = mean_absolute_error(predicted, y_test)\n",
    "        last_value_score = mean_absolute_error(y_test, X_test.lag_4)\n",
    "        \n",
    "        scores.append(just_score)\n",
    "        last_value_scores.append(last_value_score)\n",
    "        \n",
    "        #print(f'Mean absolute Error for ID {current_id}, Fold {fold_idx + 1}: {just_score}')\n",
    "\n",
    "    # Store scores in dictionaries with IDs\n",
    "    all_scores[current_id] = scores\n",
    "    all_last_value_scores[current_id] = last_value_scores\n",
    "\n",
    "    #print(f'Mean {current_id}: {np.mean(scores)}')\n",
    "    #print(f'Mean Last Score {current_id}: {np.mean(last_value_scores)}')\n",
    "\n",
    "    \n",
    "    \n",
    "all_scores_df = pd.DataFrame(all_scores).T.reset_index()\n",
    "last_scores_df = pd.DataFrame(all_last_value_scores).T.reset_index()\n",
    "all_scores_df.columns = [\"id\", \"t1\",\"t2\",\"t3\",\"t4\"]\n",
    "last_scores_df.columns = [\"id\", \"l1\",\"l2\",\"l3\",\"l4\"]\n",
    "sd = last_scores_df.merge(all_scores_df,on=\"id\")\n",
    "\n",
    "\n",
    "for i in range(1, 5):\n",
    "    sd[f'score_{i}'] = ((sd[f't{i}'] < sd[f'l{i}']).astype(int))\n",
    "\n",
    "# Sum the scores across columns for each row\n",
    "sd['score'] = sd[['score_1', 'score_2', 'score_3', 'score_4']].sum(axis=1)\n",
    "\n",
    "sd['l_average'] = sd[['l1', 'l2', 'l3', 'l4']].mean(axis=1)\n",
    "sd['t_average'] = sd[['t1', 't2', 't3', 't4']].mean(axis=1)\n",
    "\n",
    "sd['difference_averages'] = sd['l_average']  - sd['t_average'] \n",
    "\n",
    "scoreidx = sd[(sd.score==4)].id.unique()\n",
    "diffidx = sd[(sd.difference_averages>0)].id.unique()\n",
    "\n",
    "\n",
    "\n",
    "indexn = []\n",
    "predictions = []\n",
    "feature_importances_list = []\n",
    "\n",
    "\n",
    "\n",
    "\n",
    "id_lists = [corridx ,scoreidx,diffidx]\n",
    "names = [\"korelasyon tablosundan seçilen idler ile birlikte skor:\", \"4 foldun hepsinde, idnin son değerine göre daha iyi sonuç veren idler ile:\",\n",
    "         \"4 foldun ortalaması son değere göre daha iyi olan idler ile skor:\"\n",
    "        ]\n",
    "\n",
    "for idx_list, name in zip(id_lists, names):\n",
    "    indexn = []\n",
    "    predictions = []\n",
    "    feature_importances_list = []\n",
    "\n",
    "    for i in idx_list:\n",
    "        tf = ftrain3[ftrain3.id == i]\n",
    "        ts = ftest3[ftest3.id == i]\n",
    "        modelxgb = VotingRegressor(estimators=[\n",
    "        \n",
    "           \n",
    "            ('xg2b', xgb.XGBRegressor()),\n",
    "             \n",
    "            \n",
    "        ])\n",
    "        modelxgb.fit(tf[[\"year\", \"month\", \"lag_4\",]], tf.target)\n",
    "        preds = modelxgb.predict(ts[[\"year\", \"month\", \"lag_4\",]])\n",
    "        indexn.append(i)\n",
    "        predictions.append(preds)\n",
    "        #feature_importances_list.append(modelxgb.feature_importances_)\n",
    "\n",
    "    pred_data = pd.DataFrame(predictions)\n",
    "    pred_data[\"id\"] = indexn\n",
    "    pred_data = pd.melt(pred_data, id_vars='id', var_name='column', value_name='value')\n",
    "\n",
    "    column_mapping = {0: 7, 1: 8, 2: 9}\n",
    "\n",
    "    pred_data['month'] = pred_data['column'].replace(column_mapping)\n",
    "    pred_data = pred_data[[\"id\", \"month\", \"value\"]]\n",
    "    diff_df2 = diff_df.merge(pred_data, on=[\"month\", \"id\"], how=\"left\")\n",
    "    diff_df2[\"value\"] = diff_df2['value'].fillna(diff_df2['target_y'])\n",
    "\n",
    "    #feature_imp = pd.DataFrame(feature_importances_list, columns=modelxgb.feature_names_in_).mean()\n",
    "\n",
    "    print(f\"For ID list '{name}':\")  # Display the name of the ID list\n",
    "    print(\"Feature Importances:\")\n",
    "    #print(feature_imp)\n",
    "    print(\"Son ayın değerine göre MAE:\", mean_absolute_error(diff_df2.target_x, diff_df2.target_y))\n",
    "    print(\"Tahminlenen idler ile birlikte MAE:\", mean_absolute_error(diff_df2.target_x, diff_df2.value))\n",
    "    print(\"\\n\")"
   ]
  },
  {
   "cell_type": "markdown",
   "id": "fe114f0d",
   "metadata": {
    "papermill": {
     "duration": 0.017639,
     "end_time": "2024-10-23T07:09:08.450725",
     "exception": false,
     "start_time": "2024-10-23T07:09:08.433086",
     "status": "completed"
    },
    "tags": []
   },
   "source": [
    " ## 4. train test"
   ]
  },
  {
   "cell_type": "code",
   "execution_count": 18,
   "id": "3abeb548",
   "metadata": {
    "execution": {
     "iopub.execute_input": "2024-10-23T07:09:08.487832Z",
     "iopub.status.busy": "2024-10-23T07:09:08.487335Z",
     "iopub.status.idle": "2024-10-23T07:09:08.560959Z",
     "shell.execute_reply": "2024-10-23T07:09:08.559570Z"
    },
    "papermill": {
     "duration": 0.095908,
     "end_time": "2024-10-23T07:09:08.564038",
     "exception": false,
     "start_time": "2024-10-23T07:09:08.468130",
     "status": "completed"
    },
    "tags": []
   },
   "outputs": [
    {
     "name": "stdout",
     "output_type": "stream",
     "text": [
      "son ayın değerlerine göre ftrain4 ,ftest4 MAE: 41.003059942809806\n"
     ]
    }
   ],
   "source": [
    "diff_df , mae = last_month_value(ftrain4,ftest4)\n",
    "\n",
    "print(\"son ayın değerlerine göre ftrain4 ,ftest4 MAE:\",mae)"
   ]
  },
  {
   "cell_type": "code",
   "execution_count": 19,
   "id": "79067fd7",
   "metadata": {
    "execution": {
     "iopub.execute_input": "2024-10-23T07:09:08.600677Z",
     "iopub.status.busy": "2024-10-23T07:09:08.600212Z",
     "iopub.status.idle": "2024-10-23T07:11:23.024934Z",
     "shell.execute_reply": "2024-10-23T07:11:23.023747Z"
    },
    "papermill": {
     "duration": 134.446523,
     "end_time": "2024-10-23T07:11:23.028016",
     "exception": false,
     "start_time": "2024-10-23T07:09:08.581493",
     "status": "completed"
    },
    "tags": []
   },
   "outputs": [
    {
     "name": "stderr",
     "output_type": "stream",
     "text": [
      "/tmp/ipykernel_19/2234164433.py:179: SettingWithCopyWarning: \n",
      "A value is trying to be set on a copy of a slice from a DataFrame.\n",
      "Try using .loc[row_indexer,col_indexer] = value instead\n",
      "\n",
      "See the caveats in the documentation: https://pandas.pydata.org/pandas-docs/stable/user_guide/indexing.html#returning-a-view-versus-a-copy\n",
      "  df['new'] = df['target'].apply(lambda x: 0 if x < 20 else 1)\n",
      "/tmp/ipykernel_19/2234164433.py:182: SettingWithCopyWarning: \n",
      "A value is trying to be set on a copy of a slice from a DataFrame.\n",
      "Try using .loc[row_indexer,col_indexer] = value instead\n",
      "\n",
      "See the caveats in the documentation: https://pandas.pydata.org/pandas-docs/stable/user_guide/indexing.html#returning-a-view-versus-a-copy\n",
      "  df['consecutive_months'] = 0\n"
     ]
    }
   ],
   "source": [
    "tidx = ftrain4[(ftrain4.date==\"2022-12-01\") & (ftrain4.target>100)].id\n",
    "corr_df = generate_correlation_tables(ftrain4,tidx,orj)\n",
    "\n",
    "n_months = calculate_consecutive_months(ftrain4)\n",
    "corr_df = corr_df.merge(n_months.groupby(\"id\").consecutive_months.max(),on=\"id\", how=\"left\")\n",
    "lt = all_set.groupby(\"id\").target.last()\n",
    "corr_df = corr_df.merge(lt,on=\"id\",how=\"left\")\n",
    "\n",
    "scaler = MinMaxScaler()\n",
    "corr_df[\"scaled_months\"] =  scaler.fit_transform(corr_df.consecutive_months.values.reshape(-1, 1))\n",
    "corr_df[\"final\"] =  corr_df.total_corr + corr_df.scaled_months\n",
    "corr_df = corr_df.sort_values(by=\"final\",ascending=False)\n",
    "corridx = corr_df[(corr_df.consecutive_months>11) & (corr_df.final>2.6)].id"
   ]
  },
  {
   "cell_type": "code",
   "execution_count": 20,
   "id": "a8009e1c",
   "metadata": {
    "execution": {
     "iopub.execute_input": "2024-10-23T07:11:23.065375Z",
     "iopub.status.busy": "2024-10-23T07:11:23.064805Z",
     "iopub.status.idle": "2024-10-23T07:17:17.061954Z",
     "shell.execute_reply": "2024-10-23T07:17:17.060426Z"
    },
    "papermill": {
     "duration": 354.038353,
     "end_time": "2024-10-23T07:17:17.084056",
     "exception": false,
     "start_time": "2024-10-23T07:11:23.045703",
     "status": "completed"
    },
    "tags": []
   },
   "outputs": [
    {
     "name": "stdout",
     "output_type": "stream",
     "text": [
      "For ID list 'korelasyon tablosundan seçilen idler ile birlikte skor:':\n",
      "Feature Importances:\n",
      "year     0.334874\n",
      "month    0.062811\n",
      "lag_4    0.602315\n",
      "dtype: float32\n",
      "Son ayın değerine göre MAE: 41.003059942809806\n",
      "Tahminlenen idler ile MAE: 50.80658848927485\n",
      "\n",
      "\n",
      "For ID list '4 foldun hepsinde, idnin son değerine göre daha iyi sonuç veren idler ile:':\n",
      "Feature Importances:\n",
      "year     0.272083\n",
      "month    0.269069\n",
      "lag_4    0.458849\n",
      "dtype: float32\n",
      "Son ayın değerine göre MAE: 41.003059942809806\n",
      "Tahminlenen idler ile MAE: 41.10425305179829\n",
      "\n",
      "\n",
      "For ID list '4 foldun ortalamsı son değere göre daha iyi olan idler ile skor:':\n",
      "Feature Importances:\n",
      "year     0.349009\n",
      "month    0.192543\n",
      "lag_4    0.458448\n",
      "dtype: float32\n",
      "Son ayın değerine göre MAE: 41.003059942809806\n",
      "Tahminlenen idler ile MAE: 43.833307084501456\n",
      "\n",
      "\n"
     ]
    }
   ],
   "source": [
    "\n",
    "ds = ftrain4\n",
    "downidx = ds[(ds.date==\"2022-12-01\") & (ds.target>100)].id\n",
    "\n",
    "unique_ids = downidx\n",
    "\n",
    "all_scores = {}\n",
    "all_last_value_scores = {}\n",
    "\n",
    "for current_id in unique_ids:\n",
    "    \n",
    "    scores = []\n",
    "    last_value_scores = []\n",
    "    \n",
    "    \n",
    "    current_data = ds[ds['id'] == current_id]\n",
    "\n",
    "    # Use TimeSeriesSplit for the current ID\n",
    "    tscv = TimeSeriesSplit(n_splits=4, test_size=3)\n",
    "\n",
    "    for fold_idx, (train_idx, val_idx) in enumerate(tscv.split(current_data)):\n",
    "        train_data = current_data.iloc[train_idx]\n",
    "        test_data = current_data.iloc[val_idx]\n",
    "\n",
    "        X_train, y_train = train_data.drop(\"target\", axis=1), train_data[\"target\"]\n",
    "        X_test, y_test = test_data.drop(\"target\", axis=1), test_data[\"target\"]\n",
    "\n",
    "        features = ['year', 'month', 'lag_4']\n",
    "       \n",
    "        X_train = X_train[features]\n",
    "        X_test = X_test[features]\n",
    "\n",
    "        ml = xgb.XGBRegressor()\n",
    "\n",
    "        ml.fit(X_train, y_train)\n",
    "        predicted = ml.predict(X_test)\n",
    "\n",
    "        fi = ml.feature_importances_\n",
    "\n",
    "        just_score = mean_absolute_error(predicted, y_test)\n",
    "        last_value_score = mean_absolute_error(y_test, X_test.lag_4)\n",
    "        \n",
    "        scores.append(just_score)\n",
    "        last_value_scores.append(last_value_score)\n",
    "        \n",
    "        #print(f'Mean absolute Error for ID {current_id}, Fold {fold_idx + 1}: {just_score}')\n",
    "\n",
    "    # Store scores in dictionaries with IDs\n",
    "    all_scores[current_id] = scores\n",
    "    all_last_value_scores[current_id] = last_value_scores\n",
    "\n",
    "    #print(f'Mean {current_id}: {np.mean(scores)}')\n",
    "    #print(f'Mean Last Score {current_id}: {np.mean(last_value_scores)}')\n",
    "\n",
    "    \n",
    "    \n",
    "all_scores_df = pd.DataFrame(all_scores).T.reset_index()\n",
    "last_scores_df = pd.DataFrame(all_last_value_scores).T.reset_index()\n",
    "all_scores_df.columns = [\"id\", \"t1\",\"t2\",\"t3\",\"t4\"]\n",
    "last_scores_df.columns = [\"id\", \"l1\",\"l2\",\"l3\",\"l4\"]\n",
    "sd = last_scores_df.merge(all_scores_df,on=\"id\")\n",
    "\n",
    "\n",
    "for i in range(1, 5):\n",
    "    sd[f'score_{i}'] = ((sd[f't{i}'] < sd[f'l{i}']).astype(int))\n",
    "\n",
    "# Sum the scores across columns for each row\n",
    "sd['score'] = sd[['score_1', 'score_2', 'score_3', 'score_4']].sum(axis=1)\n",
    "\n",
    "sd['l_average'] = sd[['l1', 'l2', 'l3', 'l4']].mean(axis=1)\n",
    "sd['t_average'] = sd[['t1', 't2', 't3', 't4']].mean(axis=1)\n",
    "\n",
    "sd['difference_averages'] = sd['l_average']  - sd['t_average'] \n",
    "\n",
    "scoreidx = sd[(sd.score==4)].id.unique()\n",
    "diffidx = sd[(sd.difference_averages>0)].id.unique()\n",
    "\n",
    "\n",
    "\n",
    "indexn = []\n",
    "predictions = []\n",
    "feature_importances_list = []\n",
    "\n",
    "\n",
    "\n",
    "id_lists = [corridx ,scoreidx,diffidx]\n",
    "names = [\"korelasyon tablosundan seçilen idler ile birlikte skor:\", \"4 foldun hepsinde, idnin son değerine göre daha iyi sonuç veren idler ile:\",\n",
    "         \"4 foldun ortalamsı son değere göre daha iyi olan idler ile skor:\"\n",
    "        ]\n",
    "\n",
    "for idx_list, name in zip(id_lists, names):\n",
    "    indexn = []\n",
    "    predictions = []\n",
    "    feature_importances_list = []\n",
    "\n",
    "    for i in idx_list:\n",
    "        tf = ftrain4[ftrain4.id == i]\n",
    "        ts = ftest4[ftest4.id == i]\n",
    "        modelxgb = xgb.XGBRegressor()\n",
    "        modelxgb.fit(tf[[\"year\", \"month\", \"lag_4\",]], tf.target)\n",
    "        preds = modelxgb.predict(ts[[\"year\", \"month\", \"lag_4\",]])\n",
    "        indexn.append(i)\n",
    "        predictions.append(preds)\n",
    "        feature_importances_list.append(modelxgb.feature_importances_)\n",
    "\n",
    "    pred_data = pd.DataFrame(predictions)\n",
    "    pred_data[\"id\"] = indexn\n",
    "    pred_data = pd.melt(pred_data, id_vars='id', var_name='column', value_name='value')\n",
    "\n",
    "    column_mapping = {0: 1, 1: 2, 2: 3}\n",
    "\n",
    "    pred_data['month'] = pred_data['column'].replace(column_mapping)\n",
    "    pred_data = pred_data[[\"id\", \"month\", \"value\"]]\n",
    "    diff_df2 = diff_df.merge(pred_data, on=[\"month\", \"id\"], how=\"left\")\n",
    "    diff_df2[\"value\"] = diff_df2['value'].fillna(diff_df2['target_y'])\n",
    "\n",
    "    feature_imp = pd.DataFrame(feature_importances_list, columns=modelxgb.feature_names_in_).mean()\n",
    "\n",
    "    print(f\"For ID list '{name}':\")  # Display the name of the ID list\n",
    "    print(\"Feature Importances:\")\n",
    "    print(feature_imp)\n",
    "    print(\"Son ayın değerine göre MAE:\", mean_absolute_error(diff_df2.target_x, diff_df2.target_y))\n",
    "    print(\"Tahminlenen idler ile MAE:\", mean_absolute_error(diff_df2.target_x, diff_df2.value))\n",
    "    print(\"\\n\")"
   ]
  },
  {
   "cell_type": "markdown",
   "id": "71fa29a3",
   "metadata": {
    "papermill": {
     "duration": 0.020331,
     "end_time": "2024-10-23T07:17:17.123165",
     "exception": false,
     "start_time": "2024-10-23T07:17:17.102834",
     "status": "completed"
    },
    "tags": []
   },
   "source": [
    "## final "
   ]
  },
  {
   "cell_type": "markdown",
   "id": "4a6fe49c",
   "metadata": {
    "papermill": {
     "duration": 0.018725,
     "end_time": "2024-10-23T07:17:17.160107",
     "exception": false,
     "start_time": "2024-10-23T07:17:17.141382",
     "status": "completed"
    },
    "tags": []
   },
   "source": [
    "#### Son olarak test verisi için, 3 aylık tahminleri yapmadan önce tüm veriseti ile idleri seçme."
   ]
  },
  {
   "cell_type": "code",
   "execution_count": 21,
   "id": "637b8995",
   "metadata": {
    "execution": {
     "iopub.execute_input": "2024-10-23T07:17:17.199408Z",
     "iopub.status.busy": "2024-10-23T07:17:17.198358Z",
     "iopub.status.idle": "2024-10-23T07:20:06.364483Z",
     "shell.execute_reply": "2024-10-23T07:20:06.362744Z"
    },
    "papermill": {
     "duration": 169.189991,
     "end_time": "2024-10-23T07:20:06.368378",
     "exception": false,
     "start_time": "2024-10-23T07:17:17.178387",
     "status": "completed"
    },
    "tags": []
   },
   "outputs": [],
   "source": [
    "ds = all_set\n",
    "\n",
    "tidx = ds[(ds.date==\"2023-09-01\") & (ds.target>100)].id\n",
    "corr_df = generate_correlation_tables(ds,tidx,orj)\n",
    "\n",
    "n_months = calculate_consecutive_months(ds)\n",
    "corr_df = corr_df.merge(n_months.groupby(\"id\").consecutive_months.max(),on=\"id\", how=\"left\")\n",
    "lt = all_set.groupby(\"id\").target.last()\n",
    "corr_df = corr_df.merge(lt,on=\"id\",how=\"left\")\n",
    "\n",
    "scaler = MinMaxScaler()\n",
    "corr_df[\"scaled_months\"] =  scaler.fit_transform(corr_df.consecutive_months.values.reshape(-1, 1))\n",
    "corr_df[\"final\"] =  corr_df.total_corr + corr_df.scaled_months\n",
    "corr_df = corr_df.sort_values(by=\"final\",ascending=False)\n",
    "corridx = corr_df[(corr_df.consecutive_months>11) & (corr_df.final>2.6)].id"
   ]
  },
  {
   "cell_type": "code",
   "execution_count": 22,
   "id": "8dd6cd5c",
   "metadata": {
    "execution": {
     "iopub.execute_input": "2024-10-23T07:20:06.408226Z",
     "iopub.status.busy": "2024-10-23T07:20:06.407191Z",
     "iopub.status.idle": "2024-10-23T07:25:01.998116Z",
     "shell.execute_reply": "2024-10-23T07:25:01.996539Z"
    },
    "papermill": {
     "duration": 295.614579,
     "end_time": "2024-10-23T07:25:02.001709",
     "exception": false,
     "start_time": "2024-10-23T07:20:06.387130",
     "status": "completed"
    },
    "tags": []
   },
   "outputs": [],
   "source": [
    "downidx = ds[(ds.date==\"2023-09-01\") & (ds.target>100)].id\n",
    "\n",
    "unique_ids = downidx\n",
    "\n",
    "all_scores = {}\n",
    "all_last_value_scores = {}\n",
    "\n",
    "for current_id in unique_ids:\n",
    "    \n",
    "    scores = []\n",
    "    last_value_scores = []\n",
    "    \n",
    "    \n",
    "    current_data = ds[ds['id'] == current_id]\n",
    "\n",
    "    # Use TimeSeriesSplit for the current ID\n",
    "    tscv = TimeSeriesSplit(n_splits=4, test_size=3)\n",
    "\n",
    "    for fold_idx, (train_idx, val_idx) in enumerate(tscv.split(current_data)):\n",
    "        train_data = current_data.iloc[train_idx]\n",
    "        test_data = current_data.iloc[val_idx]\n",
    "\n",
    "        X_train, y_train = train_data.drop(\"target\", axis=1), train_data[\"target\"]\n",
    "        X_test, y_test = test_data.drop(\"target\", axis=1), test_data[\"target\"]\n",
    "\n",
    "        features = ['year', 'month', 'lag_4']\n",
    "       \n",
    "        X_train = X_train[features]\n",
    "        X_test = X_test[features]\n",
    "\n",
    "        ml = VotingRegressor(estimators=[\n",
    "        \n",
    "           \n",
    "          \n",
    "            ('xg2b', xgb.XGBRegressor()),\n",
    "            \n",
    "            \n",
    "        ])\n",
    "\n",
    "\n",
    "        ml.fit(X_train, y_train)\n",
    "        predicted = ml.predict(X_test)\n",
    "\n",
    "        #fi = ml.feature_importances_\n",
    "\n",
    "        just_score = mean_absolute_error(predicted, y_test)\n",
    "        last_value_score = mean_absolute_error(y_test, X_test.lag_4)\n",
    "        \n",
    "        scores.append(just_score)\n",
    "        last_value_scores.append(last_value_score)\n",
    "        \n",
    "        #print(f'Mean absolute Error for ID {current_id}, Fold {fold_idx + 1}: {just_score}')\n",
    "\n",
    "    # Store scores in dictionaries with IDs\n",
    "    all_scores[current_id] = scores\n",
    "    all_last_value_scores[current_id] = last_value_scores\n",
    "\n",
    "    #print(f'Mean {current_id}: {np.mean(scores)}')\n",
    "    #print(f'Mean Last Score {current_id}: {np.mean(last_value_scores)}')\n",
    "\n",
    "    \n",
    "    \n",
    "all_scores_df = pd.DataFrame(all_scores).T.reset_index()\n",
    "last_scores_df = pd.DataFrame(all_last_value_scores).T.reset_index()\n",
    "all_scores_df.columns = [\"id\", \"t1\",\"t2\",\"t3\",\"t4\"]\n",
    "last_scores_df.columns = [\"id\", \"l1\",\"l2\",\"l3\",\"l4\"]\n",
    "sd = last_scores_df.merge(all_scores_df,on=\"id\")\n",
    "\n",
    "\n",
    "for i in range(1, 5):\n",
    "    sd[f'score_{i}'] = ((sd[f't{i}'] < sd[f'l{i}']).astype(int))\n",
    "\n",
    "# Sum the scores across columns for each row\n",
    "sd['score'] = sd[['score_1', 'score_2', 'score_3', 'score_4']].sum(axis=1)\n",
    "\n",
    "sd['l_average'] = sd[['l1', 'l2', 'l3', 'l4']].mean(axis=1)\n",
    "sd['t_average'] = sd[['t1', 't2', 't3', 't4']].mean(axis=1)\n",
    "\n",
    "sd['difference_averages'] = sd['l_average']  - sd['t_average'] \n",
    "\n",
    "scoreidx = sd[(sd.score==4)].id.unique()\n",
    "diffidx = sd[(sd.difference_averages>0)].id.unique()\n"
   ]
  },
  {
   "cell_type": "code",
   "execution_count": 23,
   "id": "7ff3ce9b",
   "metadata": {
    "execution": {
     "iopub.execute_input": "2024-10-23T07:25:02.039758Z",
     "iopub.status.busy": "2024-10-23T07:25:02.039063Z",
     "iopub.status.idle": "2024-10-23T07:25:02.047493Z",
     "shell.execute_reply": "2024-10-23T07:25:02.045827Z"
    },
    "papermill": {
     "duration": 0.030753,
     "end_time": "2024-10-23T07:25:02.050706",
     "exception": false,
     "start_time": "2024-10-23T07:25:02.019953",
     "status": "completed"
    },
    "tags": []
   },
   "outputs": [
    {
     "name": "stdout",
     "output_type": "stream",
     "text": [
      "korelasyon tablosu ile seçilen id sayısı: 33\n",
      "her foldda daha iyi sonuç veren  id sayısı: 65\n",
      "ortalamada daha iyi sonuçlar veren id sayısı : 354\n"
     ]
    }
   ],
   "source": [
    "print(\"korelasyon tablosu ile seçilen id sayısı:\",len(corridx) )\n",
    "print(\"her foldda daha iyi sonuç veren  id sayısı:\",len(scoreidx) )\n",
    "print(\"ortalamada daha iyi sonuçlar veren id sayısı :\",len(diffidx) )"
   ]
  },
  {
   "cell_type": "markdown",
   "id": "42c43b99",
   "metadata": {
    "execution": {
     "iopub.execute_input": "2024-02-01T19:21:44.090002Z",
     "iopub.status.busy": "2024-02-01T19:21:44.089671Z",
     "iopub.status.idle": "2024-02-01T19:21:44.09401Z",
     "shell.execute_reply": "2024-02-01T19:21:44.093094Z",
     "shell.execute_reply.started": "2024-02-01T19:21:44.089976Z"
    },
    "papermill": {
     "duration": 0.017494,
     "end_time": "2024-10-23T07:25:02.085634",
     "exception": false,
     "start_time": "2024-10-23T07:25:02.068140",
     "status": "completed"
    },
    "tags": []
   },
   "source": [
    "# submissions"
   ]
  },
  {
   "cell_type": "code",
   "execution_count": 24,
   "id": "7b848ed5",
   "metadata": {
    "execution": {
     "iopub.execute_input": "2024-10-23T07:25:02.122434Z",
     "iopub.status.busy": "2024-10-23T07:25:02.121940Z",
     "iopub.status.idle": "2024-10-23T07:25:02.493586Z",
     "shell.execute_reply": "2024-10-23T07:25:02.492324Z"
    },
    "papermill": {
     "duration": 0.393814,
     "end_time": "2024-10-23T07:25:02.496655",
     "exception": false,
     "start_time": "2024-10-23T07:25:02.102841",
     "status": "completed"
    },
    "tags": []
   },
   "outputs": [
    {
     "name": "stderr",
     "output_type": "stream",
     "text": [
      "/tmp/ipykernel_19/3534282664.py:6: SettingWithCopyWarning: \n",
      "A value is trying to be set on a copy of a slice from a DataFrame\n",
      "\n",
      "See the caveats in the documentation: https://pandas.pydata.org/pandas-docs/stable/user_guide/indexing.html#returning-a-view-versus-a-copy\n",
      "  gtest.rename(columns={\"target\":\"lag_3\"},inplace=True)\n"
     ]
    }
   ],
   "source": [
    "all_set2 =  all_set[['id', 'year', 'month', 'target']].copy()\n",
    "\n",
    "gtrain = all_set2.copy()\n",
    "gtest =  all_set2[(all_set2.year==2023) & (all_set2.month>6)]\n",
    "\n",
    "gtest.rename(columns={\"target\":\"lag_3\"},inplace=True)\n",
    "\n",
    "gtrain[\"lag_3\"] =  gtrain.groupby(\"id\").target.shift(3).fillna(0)"
   ]
  },
  {
   "cell_type": "code",
   "execution_count": 25,
   "id": "583b8a01",
   "metadata": {
    "execution": {
     "iopub.execute_input": "2024-10-23T07:25:02.534606Z",
     "iopub.status.busy": "2024-10-23T07:25:02.533493Z",
     "iopub.status.idle": "2024-10-23T07:25:02.545429Z",
     "shell.execute_reply": "2024-10-23T07:25:02.544021Z"
    },
    "papermill": {
     "duration": 0.034486,
     "end_time": "2024-10-23T07:25:02.548530",
     "exception": false,
     "start_time": "2024-10-23T07:25:02.514044",
     "status": "completed"
    },
    "tags": []
   },
   "outputs": [],
   "source": [
    "gtest.loc[gtest.month==7,\"month\"]=10\n",
    "gtest.loc[gtest.month==8,\"month\"]=11\n",
    "gtest.loc[gtest.month==9,\"month\"]=12"
   ]
  },
  {
   "cell_type": "code",
   "execution_count": 26,
   "id": "0f59ef32",
   "metadata": {
    "execution": {
     "iopub.execute_input": "2024-10-23T07:25:02.587855Z",
     "iopub.status.busy": "2024-10-23T07:25:02.587442Z",
     "iopub.status.idle": "2024-10-23T07:27:00.015513Z",
     "shell.execute_reply": "2024-10-23T07:27:00.014344Z"
    },
    "papermill": {
     "duration": 117.450511,
     "end_time": "2024-10-23T07:27:00.018768",
     "exception": false,
     "start_time": "2024-10-23T07:25:02.568257",
     "status": "completed"
    },
    "tags": []
   },
   "outputs": [],
   "source": [
    "\n",
    "indexn = []\n",
    "predictions = []\n",
    "\n",
    "\n",
    "for i in  diffidx:\n",
    "    tf = gtrain[gtrain.id==i]\n",
    "    ts = gtest[gtest.id==i]\n",
    "    modelxgb = xgb.XGBRegressor()\n",
    "          \n",
    "    modelxgb.fit(tf[[\"year\",\"month\",\"lag_3\"]],tf.target)\n",
    "    preds = modelxgb.predict(ts[[\"year\",\"month\",\"lag_3\"]])\n",
    "    indexn.append(i)\n",
    "    predictions.append(preds)\n",
    "    \n",
    "    \n",
    "\n",
    "pred_data = pd.DataFrame(predictions)\n",
    "pred_data[\"id\"]=indexn\n",
    "pred_data = pd.melt(pred_data, id_vars='id', var_name='column', value_name='value')\n",
    "\n",
    "\n",
    "column_mapping = { 0: 10, 1: 11, 2: 12}\n",
    "\n",
    "\n",
    "\n",
    "pred_data['month'] = pred_data['column'].replace(column_mapping)\n",
    "pred_data.drop(\"column\",axis=1,inplace=True)\n",
    "pred_data.columns = [\"id\",\"value_down\",\"month\"]\n",
    "pred_data = pred_data[[\"id\",\"value_down\",\"month\"]]"
   ]
  },
  {
   "cell_type": "code",
   "execution_count": 27,
   "id": "8a0bedbe",
   "metadata": {
    "execution": {
     "iopub.execute_input": "2024-10-23T07:27:00.059418Z",
     "iopub.status.busy": "2024-10-23T07:27:00.058940Z",
     "iopub.status.idle": "2024-10-23T07:27:00.375446Z",
     "shell.execute_reply": "2024-10-23T07:27:00.373715Z"
    },
    "papermill": {
     "duration": 0.341536,
     "end_time": "2024-10-23T07:27:00.378790",
     "exception": false,
     "start_time": "2024-10-23T07:27:00.037254",
     "status": "completed"
    },
    "tags": []
   },
   "outputs": [],
   "source": [
    "\n",
    "sub = gtrain[(gtrain.year==2023) & (gtrain.month==9)]\n",
    "sub = sub[[\"id\",\"target\"]]\n",
    "sub.rename(columns={\"id\":\"merchant_id\",\"target\":\"net_payment_count\"},inplace=True)\n",
    "\n",
    "ff = pd.read_csv(\"/kaggle/input/iyzico-datathon/sample_submission.csv\")\n",
    "\n",
    "ff['merchant_id'] = ff['id'].astype(str).str[6:]\n",
    "ff['month_id'] = ff['id'].astype(str).str[:6]\n",
    "\n",
    "ff = ff[[\"merchant_id\",\"id\"]]\n",
    "\n",
    "last = ff.merge(sub,on=\"merchant_id\",how=\"left\").fillna(0)\n",
    "\n",
    "\n",
    "last[\"month\"] = last['id'].apply(lambda x: x[4:6]).astype(int)\n"
   ]
  },
  {
   "cell_type": "code",
   "execution_count": 28,
   "id": "676a8538",
   "metadata": {
    "execution": {
     "iopub.execute_input": "2024-10-23T07:27:00.416300Z",
     "iopub.status.busy": "2024-10-23T07:27:00.415874Z",
     "iopub.status.idle": "2024-10-23T07:27:00.460895Z",
     "shell.execute_reply": "2024-10-23T07:27:00.459190Z"
    },
    "papermill": {
     "duration": 0.067495,
     "end_time": "2024-10-23T07:27:00.464034",
     "exception": false,
     "start_time": "2024-10-23T07:27:00.396539",
     "status": "completed"
    },
    "tags": []
   },
   "outputs": [],
   "source": [
    "pred_data.columns = [\"merchant_id\",\"value\",\"month\"]\n",
    "\n",
    "mn = last.merge(pred_data,on=[\"month\",\"merchant_id\"],how=\"left\")\n",
    "mn[\"final\"] =  mn.value.fillna(mn.net_payment_count)"
   ]
  },
  {
   "cell_type": "code",
   "execution_count": 29,
   "id": "9d5a23dc",
   "metadata": {
    "execution": {
     "iopub.execute_input": "2024-10-23T07:27:00.501541Z",
     "iopub.status.busy": "2024-10-23T07:27:00.500996Z",
     "iopub.status.idle": "2024-10-23T07:27:00.509640Z",
     "shell.execute_reply": "2024-10-23T07:27:00.508184Z"
    },
    "papermill": {
     "duration": 0.031266,
     "end_time": "2024-10-23T07:27:00.512733",
     "exception": false,
     "start_time": "2024-10-23T07:27:00.481467",
     "status": "completed"
    },
    "tags": []
   },
   "outputs": [],
   "source": [
    "mn.loc[mn.final<0,\"final\"] = 0"
   ]
  },
  {
   "cell_type": "code",
   "execution_count": 30,
   "id": "84883100",
   "metadata": {
    "execution": {
     "iopub.execute_input": "2024-10-23T07:27:00.552620Z",
     "iopub.status.busy": "2024-10-23T07:27:00.551776Z",
     "iopub.status.idle": "2024-10-23T07:27:00.857178Z",
     "shell.execute_reply": "2024-10-23T07:27:00.855728Z"
    },
    "papermill": {
     "duration": 0.328692,
     "end_time": "2024-10-23T07:27:00.860346",
     "exception": false,
     "start_time": "2024-10-23T07:27:00.531654",
     "status": "completed"
    },
    "tags": []
   },
   "outputs": [],
   "source": [
    "a = mn[[\"id\",\"final\"]]\n",
    "a.columns=[\"id\",\"net_payment_count\"]\n",
    "a.to_csv('submission.csv',index=False)"
   ]
  },
  {
   "cell_type": "code",
   "execution_count": 31,
   "id": "c3dc1e31",
   "metadata": {
    "execution": {
     "iopub.execute_input": "2024-10-23T07:27:00.897967Z",
     "iopub.status.busy": "2024-10-23T07:27:00.897465Z",
     "iopub.status.idle": "2024-10-23T07:27:00.907355Z",
     "shell.execute_reply": "2024-10-23T07:27:00.905914Z"
    },
    "papermill": {
     "duration": 0.0321,
     "end_time": "2024-10-23T07:27:00.910216",
     "exception": false,
     "start_time": "2024-10-23T07:27:00.878116",
     "status": "completed"
    },
    "tags": []
   },
   "outputs": [
    {
     "name": "stdout",
     "output_type": "stream",
     "text": [
      "790543.4\n",
      "0.0\n"
     ]
    }
   ],
   "source": [
    "print(a.net_payment_count.max())\n",
    "print(a.net_payment_count.min())"
   ]
  },
  {
   "cell_type": "code",
   "execution_count": 32,
   "id": "9885df10",
   "metadata": {
    "execution": {
     "iopub.execute_input": "2024-10-23T07:27:00.947551Z",
     "iopub.status.busy": "2024-10-23T07:27:00.947112Z",
     "iopub.status.idle": "2024-10-23T07:27:01.005250Z",
     "shell.execute_reply": "2024-10-23T07:27:01.003569Z"
    },
    "papermill": {
     "duration": 0.080773,
     "end_time": "2024-10-23T07:27:01.008652",
     "exception": false,
     "start_time": "2024-10-23T07:27:00.927879",
     "status": "completed"
    },
    "tags": []
   },
   "outputs": [],
   "source": [
    "mn[\"year\"] = 2023\n",
    "merged_df = pd.concat([all_set[[\"year\",\"month\",\"target\"]],mn[[\"year\",\"month\",\"final\"]]])\n",
    "merged_df[\"last\"]=  merged_df.final.fillna(merged_df.target)"
   ]
  },
  {
   "cell_type": "code",
   "execution_count": 33,
   "id": "c71985e9",
   "metadata": {
    "execution": {
     "iopub.execute_input": "2024-10-23T07:27:01.047983Z",
     "iopub.status.busy": "2024-10-23T07:27:01.047577Z",
     "iopub.status.idle": "2024-10-23T07:27:02.928622Z",
     "shell.execute_reply": "2024-10-23T07:27:02.927022Z"
    },
    "papermill": {
     "duration": 1.902996,
     "end_time": "2024-10-23T07:27:02.931332",
     "exception": false,
     "start_time": "2024-10-23T07:27:01.028336",
     "status": "completed"
    },
    "tags": []
   },
   "outputs": [
    {
     "data": {
      "text/plain": [
       "<Axes: xlabel='month', ylabel='last'>"
      ]
     },
     "execution_count": 33,
     "metadata": {},
     "output_type": "execute_result"
    },
    {
     "data": {
      "image/png": "[encoded data removed]",
      "text/plain": [
       "<Figure size 640x480 with 1 Axes>"
      ]
     },
     "metadata": {},
     "output_type": "display_data"
    }
   ],
   "source": [
    "sns.lineplot(data=merged_df, x=\"month\", y=\"last\", hue=\"year\", errorbar=None)"
   ]
  }
 ],
 "metadata": {
  "kaggle": {
   "accelerator": "none",
   "dataSources": [
    {
     "databundleVersionId": 7547755,
     "sourceId": 67726,
     "sourceType": "competition"
    }
   ],
   "dockerImageVersionId": 30635,
   "isGpuEnabled": false,
   "isInternetEnabled": true,
   "language": "python",
   "sourceType": "notebook"
  },
  "kernelspec": {
   "display_name": "Python 3",
   "language": "python",
   "name": "python3"
  },
  "language_info": {
   "codemirror_mode": {
    "name": "ipython",
    "version": 3
   },
   "file_extension": ".py",
   "mimetype": "text/x-python",
   "name": "python",
   "nbconvert_exporter": "python",
   "pygments_lexer": "ipython3",
   "version": "3.10.12"
  },
  "papermill": {
   "default_parameters": {},
   "duration": 2739.029729,
   "end_time": "2024-10-23T07:27:04.792556",
   "environment_variables": {},
   "exception": null,
   "input_path": "__notebook__.ipynb",
   "output_path": "__notebook__.ipynb",
   "parameters": {},
   "start_time": "2024-10-23T06:41:25.762827",
   "version": "2.4.0"
  }
 },
 "nbformat": 4,
 "nbformat_minor": 5
}
